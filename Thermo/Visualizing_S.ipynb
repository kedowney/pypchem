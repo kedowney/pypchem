{
 "cells": [
  {
   "cell_type": "markdown",
   "metadata": {},
   "source": [
    "Graphs S(V,T) and S(P,T) using the Sackur-Tetrode equation, https://en.wikipedia.org/wiki/Sackur%E2%80%93Tetrode_equation."
   ]
  },
  {
   "cell_type": "code",
   "execution_count": null,
   "metadata": {
    "collapsed": true
   },
   "outputs": [],
   "source": [
    "from numpy import *\n",
    "from matplotlib.pyplot import *\n",
    "from mpl_toolkits.mplot3d import axes3d\n",
    "%matplotlib notebook"
   ]
  },
  {
   "cell_type": "markdown",
   "metadata": {},
   "source": [
    "Function that gets S(T,V) using Sackur-Tetrode "
   ]
  },
  {
   "cell_type": "code",
   "execution_count": null,
   "metadata": {
    "collapsed": true
   },
   "outputs": [],
   "source": [
    "def SVT_sack(M,Trange,Vrange): \n",
    "    n = 1 \n",
    "    h = 6.626e-34\n",
    "    Na = 6.02e23\n",
    "    k = 1.38e-23\n",
    "    R = 8.314\n",
    "    m = M/Na\n",
    "    nT = len(Trange)\n",
    "    nV = len(Vrange)\n",
    "    S = np.zeros((nT,nV))\n",
    "    Vgrid,Tgrid=meshgrid(Vrange,Trange)\n",
    "    for iT in range(nT):\n",
    "        T = Trange[iT]\n",
    "        lambdax = h/(2*pi*k*T)**.5\n",
    "        for iV in range(nV):\n",
    "            V = Vrange[iV]\n",
    "            Stemp = n*R*log(exp(5/2)*V/(n*Na*lambdax**3))\n",
    "            S[iT,iV] = Stemp\n",
    "    return S,Vgrid,Tgrid"
   ]
  },
  {
   "cell_type": "markdown",
   "metadata": {},
   "source": [
    "Function that gets S(T,P) using Sackur-Tetrode "
   ]
  },
  {
   "cell_type": "code",
   "execution_count": null,
   "metadata": {
    "collapsed": true
   },
   "outputs": [],
   "source": [
    "def SPT_sack(M,Trange,Prange):\n",
    "    n=1\n",
    "    R = 8.314\n",
    "    M = .040 # this is argon\n",
    "    h = 6.626e-34\n",
    "    Na = 6.02e23\n",
    "    k = 1.38e-23\n",
    "    R = 8.314\n",
    "    Cp = 5/2*R\n",
    "    Cp_liq = 22.6\n",
    "\n",
    "    nT = len(Trange)\n",
    "    nP = len(Prange)\n",
    "    Pgrid,Tgrid=meshgrid(Prange,Trange)\n",
    "\n",
    "    S = np.zeros((nT,nP))\n",
    "\n",
    "    for iP in range(nP):\n",
    "        P = Prange[iP]\n",
    "        for iT in range(nT):\n",
    "            T = Trange[iT]\n",
    "            V = R*T/P\n",
    "            lambdax = h/(2*np.pi*k*T)**.5\n",
    "            S[iT,iP] = n*R*np.log(np.exp(5/2)*V/(n*Na*lambdax**3))\n",
    "    return S,Pgrid,Tgrid"
   ]
  },
  {
   "cell_type": "markdown",
   "metadata": {},
   "source": [
    "Define our system"
   ]
  },
  {
   "cell_type": "code",
   "execution_count": null,
   "metadata": {
    "collapsed": true
   },
   "outputs": [],
   "source": [
    "M = .040 # For Argon"
   ]
  },
  {
   "cell_type": "markdown",
   "metadata": {},
   "source": [
    "Graphing S(V,T)"
   ]
  },
  {
   "cell_type": "code",
   "execution_count": null,
   "metadata": {},
   "outputs": [],
   "source": [
    "Trange = linspace(300,600);\n",
    "Vrange = linspace(.01,.1);\n",
    "SVT,Vgrid,Tgrid = SVT_sack(M,Trange,Vrange);\n",
    "ax = figure().gca(projection='3d') # Set up a three dimensional graphics window \n",
    "ax.plot_surface(Vgrid, Tgrid, SVT, rstride=3,cstride=3) # Make the mesh plot\n",
    "ax.set_xlabel('V (m^3)') # Label axes\n",
    "ax.set_ylabel('T (K)')\n",
    "ax.set_zlabel('S')\n",
    "ax.set_title('S(V,T) for Argon')\n"
   ]
  },
  {
   "cell_type": "markdown",
   "metadata": {
    "collapsed": true
   },
   "source": [
    "Now S(P,T)"
   ]
  },
  {
   "cell_type": "code",
   "execution_count": null,
   "metadata": {},
   "outputs": [],
   "source": [
    "Trange = linspace(300,600);\n",
    "Prange = linspace(1e5,10e5);\n",
    "SPT,Pgrid,Tgrid = SPT_sack(M,Trange,Prange)\n",
    "ax = figure().gca(projection='3d') # Set up a three dimensional graphics window \n",
    "ax.plot_surface(Pgrid/1e5, Tgrid, SPT, rstride=2,cstride=2) # Make the mesh plot\n",
    "ax.set_xlabel('P (bar)') # Label axes\n",
    "ax.set_ylabel('T (K)')\n",
    "ax.set_zlabel('S (J/mol-K)')\n",
    "ax.set_title('S(P,T) for Argon')"
   ]
  }
 ],
 "metadata": {
  "kernelspec": {
   "display_name": "Python 2",
   "language": "python",
   "name": "python2"
  },
  "language_info": {
   "codemirror_mode": {
    "name": "ipython",
    "version": 2
   },
   "file_extension": ".py",
   "mimetype": "text/x-python",
   "name": "python",
   "nbconvert_exporter": "python",
   "pygments_lexer": "ipython2",
   "version": "2.7.13"
  }
 },
 "nbformat": 4,
 "nbformat_minor": 1
}
