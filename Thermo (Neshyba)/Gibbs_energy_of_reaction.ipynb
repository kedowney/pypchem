{
 "cells": [
  {
   "cell_type": "markdown",
   "metadata": {},
   "source": [
    "### Computational Guided Inquiry for PChem (Neshyba & Guasco, 2017)\n",
    "\n",
    "# Gibbs energy of an ideal reacting system\n",
    "\n",
    "## Objective: Plot the Gibbs energy of an ideal reacting system, including enthalpic and entropic contributions"
   ]
  },
  {
   "cell_type": "markdown",
   "metadata": {},
   "source": [
    "## Pre-class activities:\n",
    "Read the Introduction below.  \n",
    "\n",
    "Copy down all the equations in the introduction.\n",
    "\n",
    "Using the appropriate equation in the Introduction, calculate equilibrium constant, $K$, when the standard Gibbs energy of a reaction, $\\Delta G_{rxn}^o$, equals two kilojoules."
   ]
  },
  {
   "cell_type": "markdown",
   "metadata": {},
   "source": [
    "## Introduction\n",
    "\n",
    "You are familiar with the idea of using changes in the Gibbs energy as a condition for spontaneity at a given temperature and pressure, \n",
    "\n",
    "<p style='text-align: right;'>\n",
    "$\\Delta G_{rxn}<0 $ (spontaneous processes, fixed T and P)\n",
    "$\\qquad\\qquad\\qquad\\qquad\\qquad\\qquad\\qquad\\qquad (1) $\n",
    "</p>\n",
    "\n",
    "Since $G=H-TS$, this means that a system will tend to evolve toward the lowest enthalpy and the highest entropy possible; when the lowest Gibbs energy is reached, we say the system is in equilibrium. It turns out that when a system approaches equilibrium via a chemical reaction, this approach is constrained by the stoichiometry of the reaction. That's good because it gives a handle on how to think about how chemical systems react. That in turn provides some powerful analytical tools for predicting the position of equilibrium -- as you'll see in this exercise. \n",
    "\n"
   ]
  },
  {
   "cell_type": "markdown",
   "metadata": {},
   "source": [
    "Let’s say you are interested in the Gibbs energy associated with an aqueous reaction\n",
    "\n",
    "<p style='text-align: right;'>\n",
    "$A → B$\n",
    "$\\qquad\\qquad\\qquad\\qquad\\qquad\\qquad\\qquad\\qquad\\qquad\\qquad\\qquad\\qquad  (2) $\n",
    "</p>\n",
    "\n",
    "where A and B are solutes. For starters, you need a way to keep track of the reaction progress as A is converted into B. To do so, it’s convenient to define a _reaction extent variable_, $ε$. The bounds of this variable are ε=0 (all A) up to ε=1 (all B). In between, the moles of A and B are given by\n",
    "\n",
    "<p style='text-align: right;'>\n",
    "$n_A=1-ε$\n",
    "$\\qquad\\qquad\\qquad\\qquad\\qquad\\qquad\\qquad\\qquad\\qquad\\qquad\\qquad\\qquad  (3a) $\n",
    "</p>\n",
    "\n",
    "and\n",
    "\n",
    "<p style='text-align: right;'>\n",
    "$n_B=ε $\n",
    "$\\qquad\\qquad\\qquad\\qquad\\qquad\\qquad\\qquad\\qquad\\qquad\\qquad\\qquad\\qquad  (3b) $\n",
    "</p>\n",
    "\n"
   ]
  },
  {
   "cell_type": "markdown",
   "metadata": {},
   "source": [
    "Now suppose you want to calculate the Gibbs energy of this mixture as a function of ε. To do so, it’s helpful to imagine you have hypthothetical stock solutions of A and B, with concentrations $C_{A,stock}$ and $C_{B,stock}$ (usually assumed to be 1 <u>M</u>, if A and B are solutes). You take a sample of each solution, enough so that each has the moles of A and B indicated by Eq. 3, i.e., \n",
    "\n",
    "<p style='text-align: right;'>\n",
    "$V_A=n_A/C_{A,stock}$\n",
    "$\\qquad\\qquad\\qquad\\qquad\\qquad\\qquad\\qquad\\qquad\\qquad\\qquad\\qquad\\qquad  (4a) $\n",
    "</p>\n",
    "\n",
    "and \n",
    "\n",
    "<p style='text-align: right;'>\n",
    "$V_B=n_B/C_{B,stock}$\n",
    "$\\qquad\\qquad\\qquad\\qquad\\qquad\\qquad\\qquad\\qquad\\qquad\\qquad\\qquad\\qquad  (4b) $\n",
    "</p>\n",
    "\n"
   ]
  },
  {
   "cell_type": "markdown",
   "metadata": {},
   "source": [
    "The Gibbs energies of these two pure samples add up to\n",
    "\n",
    "<p style='text-align: right;'>\n",
    "$G^o=n_A  \\Delta G ^o_{f,A} + n_B  \\Delta G ^o_{f,B}$\n",
    "$\\qquad\\qquad\\qquad\\qquad\\qquad\\qquad\\qquad\\qquad\\qquad\\qquad\\qquad\\qquad  (5) $\n",
    "</p>\n",
    "\n",
    "where $\\Delta G ^o_{f,A}$ and $\\Delta G ^o_{f,B}$ are the molar Gibbs energies of formation of A and B, typically obtained from a thermodynamic table. Of course, this is the _unmixed_ Gibbs energy. The real reaction is a mixture of A and B; physically, you would have to combine the two samples and stir them up. Such mixing would result in an entropy of mixing,\n",
    "\n"
   ]
  },
  {
   "cell_type": "markdown",
   "metadata": {},
   "source": [
    "<p style='text-align: right;'>\n",
    "$\\Delta S_{mix}=-n_{tot}R[\\chi _A ln\\chi _A + \\chi _B ln\\chi _B]$\n",
    "$\\qquad\\qquad\\qquad\\qquad\\qquad\\qquad\\qquad\\qquad\\qquad\\qquad\\qquad\\qquad  (6) $\n",
    "</p>\n",
    "\n",
    "where $n_{tot}$ is the sum of $n_A$ and $n_B$, and the mole fractions are given by the usual formulas, e.g., $\\chi _A=n_A/n_{tot}$, etc. Now you can calculate the Gibbs energy of the reaction (as a function of reaction extent) according to \n",
    "\n",
    "<p style='text-align: right;'>\n",
    "$G=G^o-T \\Delta S_{mix}$\n",
    "$\\qquad\\qquad\\qquad\\qquad\\qquad\\qquad\\qquad\\qquad\\qquad\\qquad\\qquad\\qquad  (7) $\n",
    "</p>\n",
    "\n"
   ]
  },
  {
   "cell_type": "markdown",
   "metadata": {},
   "source": [
    "Now, what about those powerful analytical tools? Thermodynamics provides an interesting connection between $G$ and the equilibrium constant of a reaction, $K$. To make this connection, you’ll need to calculate concentrations of A and B _in the reaction mixture_ (i.e., not the stock concentrations). These values are given by\n",
    "\n",
    "<p style='text-align: right;'>\n",
    "$C_A = n_A/V_{tot}$\n",
    "$\\qquad\\qquad\\qquad\\qquad\\qquad\\qquad\\qquad\\qquad\\qquad\\qquad\\qquad\\qquad  (8a) $\n",
    "</p>\n",
    "\n",
    "and \n",
    "\n",
    "<p style='text-align: right;'>\n",
    "$C_B = n_B/V_{tot}$\n",
    "$\\qquad\\qquad\\qquad\\qquad\\qquad\\qquad\\qquad\\qquad\\qquad\\qquad\\qquad\\qquad  (8b) $\n",
    "</p>\n",
    "\n",
    "where $V_{tot}=V_A+V_B$. Having obtained the concentrations, we can define a reaction quotient according to \n",
    "\n",
    "<p style='text-align: right;'>\n",
    "$Q = C_B / C_A $\n",
    "$\\qquad\\qquad\\qquad\\qquad\\qquad\\qquad\\qquad\\qquad\\qquad\\qquad\\qquad\\qquad  (9) $\n",
    "</p>\n",
    "\n",
    "The reaction quotient is a function of ε; when the reaction is at equilibrium, we say that Q=K, where K is the equilibrium constant for the reaction. But Eq. 1 implies that this same equilibrium point must occur at the lowest point on a graph of G(ε). So this provides a way to find $K$. \n",
    "\n",
    "\n"
   ]
  },
  {
   "cell_type": "markdown",
   "metadata": {},
   "source": [
    "Thermodynamics provides one more interesting (and perhaps surprising) connection. You are probably familiar with the standard Gibbs energy of reaction, which for the reaction A → B is given by\n",
    "\n",
    "<p style='text-align: right;'>\n",
    "$\\Delta G_{rxn}^o = \\Delta G_{f,B}^o - \\Delta G_{f,A}^o$\n",
    "$\\qquad\\qquad\\qquad\\qquad\\qquad\\qquad\\qquad\\qquad\\qquad\\qquad\\qquad\\qquad  (10) $\n",
    "</p>\n",
    "\n",
    "It can be shown that the equilibrium constant is related to $\\Delta G_{rxn}^o$ according to \n",
    "\n",
    "<p style='text-align: right;'>\n",
    "$K = exp(-\\Delta G_{rxn}^o /RT) $\n",
    "$\\qquad\\qquad\\qquad\\qquad\\qquad\\qquad\\qquad\\qquad\\qquad\\qquad\\qquad\\qquad  (11) $\n",
    "</p>\n",
    "\n",
    "So this is yet one more way to find a value for $K$."
   ]
  },
  {
   "cell_type": "markdown",
   "metadata": {},
   "source": [
    "In this activity we’ll explore how these ideas of entropy of mixing, the Gibbs energy of reaction, and equilibrium constants play out in the context of the simple aqueous reaction $A → B$."
   ]
  },
  {
   "cell_type": "markdown",
   "metadata": {},
   "source": [
    "## In-class activities  \n",
    "\n",
    "Import various libraries."
   ]
  },
  {
   "cell_type": "code",
   "execution_count": null,
   "metadata": {
    "collapsed": true
   },
   "outputs": [],
   "source": [
    "from numpy import *\n",
    "from matplotlib.pyplot import *\n",
    "from mpl_toolkits.mplot3d import axes3d\n",
    "%matplotlib notebook\n"
   ]
  },
  {
   "cell_type": "markdown",
   "metadata": {},
   "source": [
    "Define some constants"
   ]
  },
  {
   "cell_type": "code",
   "execution_count": null,
   "metadata": {
    "collapsed": true
   },
   "outputs": [],
   "source": [
    "# Constants\n",
    "R = 8.314\n",
    "T = 298\n",
    "\n",
    "# Assume 1 M stock solutions \n",
    "CA0 = 1\n",
    "CB0 = 1\n",
    "\n",
    "# These are Gibbs energies of formation for A and B\n",
    "G0A = 3.0e3 # In J/mol\n",
    "G0B = 1.0e3\n"
   ]
  },
  {
   "cell_type": "markdown",
   "metadata": {},
   "source": [
    "Lay out the reaction progress parameter."
   ]
  },
  {
   "cell_type": "code",
   "execution_count": null,
   "metadata": {},
   "outputs": [],
   "source": [
    "eps = linspace(0.01,.99)\n",
    "print eps\n"
   ]
  },
  {
   "cell_type": "markdown",
   "metadata": {},
   "source": [
    "Get the moles of the reactants and products as the reaction proceeds, and the mole fractions."
   ]
  },
  {
   "cell_type": "code",
   "execution_count": null,
   "metadata": {},
   "outputs": [],
   "source": [
    "# Use stoichiometry to calculate amounts of A and B at each point along the reaction (Eqs. 3a & 3b)\n",
    "nA = 1-eps\n",
    "nB = eps\n",
    "print \"eps = \", eps\n",
    "print \"nA = \", nA\n",
    "print \"nB = \", nB\n",
    "\n",
    "# Get the mole fractions as a function of reaction progress\n",
    "ntot = nA+nB\n",
    "xA = nA/ntot\n",
    "xB = nB/ntot\n"
   ]
  },
  {
   "cell_type": "markdown",
   "metadata": {},
   "source": [
    "Calculate volumes of the stock solutions needed to make the right concentrations."
   ]
  },
  {
   "cell_type": "code",
   "execution_count": null,
   "metadata": {
    "collapsed": true
   },
   "outputs": [],
   "source": [
    "# Calculate the volumes (Eqs. 4a & 4b)\n",
    "VA = nA/CA0\n",
    "VB = nB/CB0\n",
    "Vtot=VA+VB"
   ]
  },
  {
   "cell_type": "markdown",
   "metadata": {},
   "source": [
    "Make a graph of the volumes over the course of a reaction."
   ]
  },
  {
   "cell_type": "code",
   "execution_count": null,
   "metadata": {},
   "outputs": [],
   "source": [
    "# Open a new plot window\n",
    "figure()\n",
    "\n",
    "# Plot VA(eps), VB(eps), and Vtot(eps)\n",
    "plot(eps,VA,label='VA')\n",
    "plot(eps,VB,label='VB')\n",
    "plot(eps,Vtot,label='Vtot')\n",
    "ylim(0, 1.1*Vtot.max()) # This gives a little extra space at the top of the graph\n",
    "xlabel('eps')\n",
    "ylabel('Volumes of stock solutions')\n",
    "legend()"
   ]
  },
  {
   "cell_type": "markdown",
   "metadata": {},
   "source": [
    "The unmixed contribution to G "
   ]
  },
  {
   "cell_type": "code",
   "execution_count": null,
   "metadata": {
    "collapsed": true
   },
   "outputs": [],
   "source": [
    "# Open a new plot window\n",
    "figure()\n",
    "\n",
    "# Calculate the unmixed contribution to Gibbs (Eq. 5)\n",
    "G0 = nA*G0A + nB*G0B\n",
    "\n",
    "# Plot G0(eps) (labeling x- and y-coordinates)\n"
   ]
  },
  {
   "cell_type": "markdown",
   "metadata": {},
   "source": [
    "The entropy of mixing"
   ]
  },
  {
   "cell_type": "code",
   "execution_count": null,
   "metadata": {
    "collapsed": true
   },
   "outputs": [],
   "source": [
    "# Open a new plot window\n",
    "figure()\n",
    "\n",
    "# Calculate the entropy of mixing (Eq. 6)\n",
    "\n",
    "# Plot the entropy of mixing as a function of eps (labeling x- and y-coordinates)\n"
   ]
  },
  {
   "cell_type": "markdown",
   "metadata": {},
   "source": [
    "Gibbs energy including mixing "
   ]
  },
  {
   "cell_type": "code",
   "execution_count": null,
   "metadata": {
    "collapsed": true
   },
   "outputs": [],
   "source": [
    "# Open a new plot window\n",
    "figure()\n",
    "\n",
    "# Calculate the Gibbs energy of mixing (Eq. 7)\n",
    "\n",
    "# Plot G(eps) and G0(eps) together (labeling x- and y-coordinates, with a legend)\n"
   ]
  },
  {
   "cell_type": "markdown",
   "metadata": {},
   "source": [
    "A little python interlude ... "
   ]
  },
  {
   "cell_type": "markdown",
   "metadata": {},
   "source": [
    "It will be handy to use python to find the minimum of $G(ε)$, and the value of eps at which that minimum occurs. Here's an example showing how to find the minimun of a simple function. "
   ]
  },
  {
   "cell_type": "code",
   "execution_count": null,
   "metadata": {},
   "outputs": [],
   "source": [
    "# Lay out a simple function, f=x^2+10\n",
    "x = linspace(-1,1,5) # This makes five values of x, from -1 to 1\n",
    "f = x**2+10\n",
    "\n",
    "# Use \"argmin\" to get the minimum of f\n",
    "ifmin = f.argmin()\n",
    "print 'f = ', f\n",
    "print 'x = ', x\n",
    "print 'The minimum of f occurs at index', ifmin\n",
    "print 'The minimum value of f is', f[ifmin]\n",
    "print 'x at at the minimum value of f is', x[ifmin]\n"
   ]
  },
  {
   "cell_type": "markdown",
   "metadata": {},
   "source": [
    "... and now back to the Gibbs energy"
   ]
  },
  {
   "cell_type": "markdown",
   "metadata": {},
   "source": [
    "Now use the same technique to find the minimum of $G$, and the value of eps at which it occurs."
   ]
  },
  {
   "cell_type": "code",
   "execution_count": null,
   "metadata": {
    "collapsed": true
   },
   "outputs": [],
   "source": [
    "# Use \"argmin\" to get the minimum of G\n"
   ]
  },
  {
   "cell_type": "markdown",
   "metadata": {},
   "source": [
    "The reaction quotient, $Q$"
   ]
  },
  {
   "cell_type": "code",
   "execution_count": null,
   "metadata": {},
   "outputs": [],
   "source": [
    "# Concentrations of reactant and product in the reaction mixture (Eqs. 8a & 8b)\n",
    "CA = nA/Vtot\n",
    "CB = nB/Vtot\n",
    "\n",
    "# Calculate the reaction quotient (Eq. 9)\n",
    "Q = CB/CA\n",
    "\n",
    "# Plot Q(eps)\n",
    "figure()\n",
    "plot(eps,Q)\n",
    "xlabel('eps')\n",
    "ylabel('Q')\n"
   ]
  },
  {
   "cell_type": "markdown",
   "metadata": {},
   "source": [
    "Print the value of $Q$ at the minimum eps, and see whether that is close to the prediction based on $\\Delta G_{rxn}^o$"
   ]
  },
  {
   "cell_type": "code",
   "execution_count": null,
   "metadata": {},
   "outputs": [],
   "source": [
    "# Calculate and print Q at equilibrium (i.e., at the value of eps for which G is a minimum)\n",
    "\n",
    "# Get delta-G0 (Eq. 10)\n",
    "DeltaG0rxn = G0B-G0A\n",
    "\n",
    "# Get K (Eq. 11)\n",
    "K = exp(-DeltaG0rxn*1e3/(R*T))\n",
    "print 'K predicted from delta G0 =', K\n"
   ]
  },
  {
   "cell_type": "markdown",
   "metadata": {},
   "source": [
    "## Post-class reflection  \n",
    "In your lab notebook, enter the following:\n",
    "\n",
    "1.\tDefine the terms _reaction extent_, _reaction quotient_, and _equilibrium constant_.  \n",
    "3.  Explain the difference between the _Gibbs energy of a reaction mixture_ and the _Standard Gibbs energy of reaction_.  \n",
    "2.\tSketch $\\Delta S_{mix}(ε)$, $G(ε)$, and $Q(ε)$ (i.e. all as functions of reaction extent).  \n",
    "4.\tOn your sketch of $Q(ε)$, show where the equilibrium constant computed from Eq. 11 appears on it, and compare it to the value you obtained in the prelab.\n",
    "5.  Describe how python's \"argmin\" function works, and how to use it.\n"
   ]
  }
 ],
 "metadata": {
  "kernelspec": {
   "display_name": "Python 2",
   "language": "python",
   "name": "python2"
  },
  "language_info": {
   "codemirror_mode": {
    "name": "ipython",
    "version": 2
   },
   "file_extension": ".py",
   "mimetype": "text/x-python",
   "name": "python",
   "nbconvert_exporter": "python",
   "pygments_lexer": "ipython2",
   "version": "2.7.13"
  }
 },
 "nbformat": 4,
 "nbformat_minor": 1
}
