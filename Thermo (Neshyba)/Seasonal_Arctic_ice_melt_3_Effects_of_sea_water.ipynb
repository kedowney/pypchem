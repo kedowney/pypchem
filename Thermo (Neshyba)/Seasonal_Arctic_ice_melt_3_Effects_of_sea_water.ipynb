{
 "cells": [
  {
   "cell_type": "markdown",
   "metadata": {},
   "source": [
    "## Computational Guided Inquiry for Polar Science\n",
    "\n",
    "## Seasonal Arctic ice melt - 3. Effects of sea water\n",
    "\n",
    "### Activity overview  \n",
    "2. Find the freezing point of Arctic sea ice in equilibrium with sea water\n",
    "3. Correct the enthalpy of fusion to Arctic temperature\n",
    "\n",
    "### Pre-class activities\n",
    "\n",
    "1. Read the Introduction\n",
    "3. Look up and record literature values of heat capacties ($C_{P, \\space liq}$ and $C_{P, \\space ice}$) of liquid water and ice, in SI units. \n",
    "3. Write Raoult's Law, and define all the terms in it. See, e.g., https://en.wikipedia.org/wiki/Raoult%27s_law.\n",
    "4. Write the Kirchoff Equation for correcting enthalpy changes, and define all the terms in it. See, e.g., https://www.youtube.com/watch?v=RveISCN69c8), "
   ]
  },
  {
   "cell_type": "markdown",
   "metadata": {},
   "source": [
    "## Introduction\n",
    "\n",
    "\n",
    "_Climate connection_  \n",
    "We have argued that human activity has changed the composition of the atmosphere, changed the pattern of sea ice melt in the Arctic, and that proper modeling of climate depends on quantitative representation of the thermodynamics of sea ice. We have estimated the energy needed to effect the seasonal melting of Arctic sea ice. In this CGI, we will refine this idea a little. Specifically, we'll be exploring what difference it makes that the ice is forming from seawater, and is in equilibrium with it. Both are definite, measureable effects that could potentially impact climate predictions."
   ]
  },
  {
   "cell_type": "markdown",
   "metadata": {},
   "source": [
    "_Special considerations for sea ice_   \n",
    "Figure 1 shows a phase diagram of pure water.\n",
    "\n",
    "<p style='text-align: center;'>\n",
    "<img src=\"https://opentextbc.ca/chemistry/wp-content/uploads/sites/150/2016/05/CNX_Chem_10_04_H2OPhasDi2.jpg\" height=\"300\" width=\"600\"/> \n",
    "Figure 1. Phase diagram of water.\n",
    "</p>\n"
   ]
  },
  {
   "cell_type": "markdown",
   "metadata": {},
   "source": [
    "But this phase diagram refers to _pure_ water, whereas sea water is salty: on average, there are 35 grams of salt, mostly NaCl, in every kilogram of seawater. What difference does that make? One difference is that ice freezes at a lower temperature when it is exposed to salty water (this is why salt is sometimes applied to icy roads). Another difference is that the reduction in freezing point will cause a slight change in the enthalpy of melting, $\\Delta H_{fus}$. We'll take up the theory behind these two effects next."
   ]
  },
  {
   "cell_type": "markdown",
   "metadata": {},
   "source": [
    "_Raoult's Law_  \n",
    "To get at freezing point depression, it is useful to think about _Raoult's Law_. According to Raoult's Law, the equilibrium vapor pressure of salty water is reduced by a factor $\\chi$, the mole fraction of water in a salty solution. Raoult's law is written\n",
    "\n",
    "<p style='text-align: right;'>\n",
    "$ P_{liq/vap} = P_{liq/vap}^*  \\space \\chi_{H_2O} $\n",
    "$\\qquad\\qquad\\qquad\\qquad\\qquad\\qquad\\qquad\\qquad\\qquad\\qquad (1) $\n",
    "</p>\n",
    "\n",
    "where $P_{liq/vap}$ written without the asterisk is meant to indicate the equilibrium vapor pressure of salty water, and $\\chi_{H_2O}$ is the mole fraction of _water_ in the salty solution. "
   ]
  },
  {
   "cell_type": "markdown",
   "metadata": {},
   "source": [
    "How to calculate $\\chi_{H_2O}$? Sea water has a mass concentration of $35 \\ ppt$, which means $0.035 \\ kg$ of salt in every $1 \\ kg$ of water. To convert this to a mole fraction, we just have to figure out how many moles of $NaCl$ and $H_2O$ that corresponds to. According to the _mass-amount_ relationship, the amount (moles) of a substance is given by\n",
    "\n",
    "<p style='text-align: right;'>\n",
    "$n=m/M$\n",
    "$\\qquad\\qquad\\qquad\\qquad\\qquad\\qquad\\qquad\\qquad\\qquad\\qquad (2) $\n",
    "</p>\n",
    "\n",
    "where $M$ is the molar mass of the substance in question. So you could use $m=1 \\ kg$ and $M = 0.018 \\ kg/mol$ to get $n_{H_2O}$, and $m=0.035 \\ kg$ and $M = 0.058 \\ kg/mol$ to get $n_{NaCl}$. "
   ]
  },
  {
   "cell_type": "markdown",
   "metadata": {},
   "source": [
    "That's not quite the end of the story, however, because the $NaCl$ dissociates completely to $Na^+$ and $Cl^-$. In the end we'll have\n",
    "\n",
    "<p style='text-align: right;'>\n",
    "$\\chi_{H_2O} = n_{H_2O}/n_{tot} $\n",
    "$\\qquad\\qquad\\qquad\\qquad\\qquad\\qquad\\qquad\\qquad\\qquad\\qquad (3) $\n",
    "</p>\n",
    "\n",
    "where $n_{tot} = n_{Na^+}+n_{Cl^-}+n_{H_2O}$.\n",
    "\n",
    " "
   ]
  },
  {
   "cell_type": "markdown",
   "metadata": {},
   "source": [
    "To find the new freezing point of ice with salty water, one could make a graph of $P_{liq/vap}$ as obtained by Raoult's formula, and note where this new line intersects $P_{ice/vap}^*$. That intersection occurs at the freezing point of ice in equilibrium with salty water. "
   ]
  },
  {
   "cell_type": "markdown",
   "metadata": {},
   "source": [
    "_Kirchoff's Equation_  \n",
    "Next we need to address the enthalpy of melting at this new temperature. Fortunately a correction is a available that allows one to use the enthalpy of fusion at one temperature to compute the value at a different temperature. This is the _Kirchoff Equation_,\n",
    "\n",
    "<p style='text-align: right;'>\n",
    "$ \\Delta H_{fus}(T) = \\Delta H_{fus}(T_3) \\times (C_{P, \\space liq} - C_{P, \\space ice})\\Delta T $\n",
    "$\\qquad\\qquad\\qquad\\qquad\\qquad\\qquad\\qquad\\qquad\\qquad\\qquad (4) $\n",
    "</p>\n",
    "\n",
    "where $C_{P, \\space liq}$ and $C_{P, \\space ice}$ are the constant-pressure heat capacities of liquid and ice. "
   ]
  },
  {
   "cell_type": "markdown",
   "metadata": {},
   "source": [
    "Relevant values for water, in SI units, are as follows.\n",
    "\n",
    "$ M = 0.018 \\space kg/mol $  \n",
    "$ \\rho_{solid} = 9.17 \\times 10^2 \\space  kg/m^3 $  \n",
    "$ \\rho_{liquid} = 1.00 \\times 10^3 \\space kg/m^3 $  \n",
    "$ P_3 = 611.7 \\space Pa $  \n",
    "$ T_3 = 273.16 \\space K $  \n",
    "$ \\Delta H_{vap} = 44.0 \\space kJ/mol $    \n",
    "$ \\Delta H_{sub} = 50.0 \\space kJ/mol $   \n",
    "$ \\Delta H_{fus} = 6.0 \\space kJ/mol $  \n",
    "\n"
   ]
  },
  {
   "cell_type": "code",
   "execution_count": null,
   "metadata": {
    "collapsed": true
   },
   "outputs": [],
   "source": [
    "# Load packages\n",
    "from numpy import *\n",
    "from matplotlib.pyplot import *\n",
    "from mpl_toolkits.mplot3d import axes3d\n",
    "%matplotlib notebook"
   ]
  },
  {
   "cell_type": "markdown",
   "metadata": {},
   "source": [
    "### Part I. Constructing a Raoult-corrected liquid-vapor phase boundary"
   ]
  },
  {
   "cell_type": "code",
   "execution_count": null,
   "metadata": {
    "collapsed": true
   },
   "outputs": [],
   "source": [
    "# Specify additional constants, in SI units\n",
    "rho_liquid = 1.00e3 # density of water kg/m^3\n",
    "P3 = 611.7 # Triple point pressure, pascals\n",
    "T3 = 273.16 # Triple point temperature, kelvin\n",
    "Hvap = 44000 # Joules/mol\n",
    "Hsub = 50000 # Joules/mol\n",
    "Hfus = 6000 # Joules/mol\n",
    "R = 8.314 # J/mol-K\n",
    "\n",
    "# We'll eventually need the difference in heat capacity between liquid and ice\n",
    "Cp_ice = 37.8 # J/mol-K, see https://en.wikipedia.org/wiki/Water_(data_page)\n",
    "Cp_liquid = 76.0 # J/mol-K\n",
    "Delta_Cp = Cp_liquid-Cp_ice"
   ]
  },
  {
   "cell_type": "markdown",
   "metadata": {},
   "source": [
    "First, the ice/vapor boundary for pure ice"
   ]
  },
  {
   "cell_type": "code",
   "execution_count": null,
   "metadata": {
    "collapsed": true
   },
   "outputs": [],
   "source": [
    "# Define temperature range for this boundary\n",
    "Tsub = linspace(T3-20, T3)\n",
    "\n",
    "# Use the Clausius-Clapeyron Equation\n",
    "Psub = P3 * exp((-Hsub/R)*((1/Tsub)-(1/T3)))\n",
    "\n",
    "# Open up a new graphics window\n",
    "figure()\n",
    "grid('on')\n",
    "\n",
    "# Graph it\n",
    "semilogy(Tsub, Psub)\n",
    "xlabel(\"Temperature (K)\")\n",
    "ylabel(\"Pressure (Pa)\")\n",
    "title(\"ice/vapor boundary\")"
   ]
  },
  {
   "cell_type": "markdown",
   "metadata": {},
   "source": [
    "Next, draw the liquid/vapor boundary for pure water"
   ]
  },
  {
   "cell_type": "code",
   "execution_count": null,
   "metadata": {
    "collapsed": true
   },
   "outputs": [],
   "source": [
    "# Define temperature range for this boundary\n",
    "Tvap = linspace(T3, T3+20)\n",
    "\n",
    "# Use the Clausius-Clapeyron Equation\n",
    "Pvap = P3 * exp((-Hvap/R)*((1/Tvap)-(1/T3)))\n",
    "\n",
    "# Open up a new graphics window\n",
    "figure()\n",
    "grid('on')\n",
    "\n",
    "# Graph it\n",
    "semilogy(Tvap, Pvap)\n",
    "xlabel(\"Temperature (K)\")\n",
    "ylabel(\"Pressure (Pa)\")\n",
    "title(\"liquid/vapor boundary\")\n"
   ]
  },
  {
   "cell_type": "markdown",
   "metadata": {},
   "source": [
    "Plot these together to make sure they overlap OK"
   ]
  },
  {
   "cell_type": "code",
   "execution_count": null,
   "metadata": {
    "collapsed": true
   },
   "outputs": [],
   "source": [
    "# Open up a new graphics window\n",
    "figure()\n",
    "grid('on')\n",
    "\n",
    "# Plot them together\n",
    "semilogy(Tsub, Psub, 'k')\n",
    "semilogy(Tvap, Pvap, 'r')\n",
    "xlabel(\"Temperature (K)\")\n",
    "ylabel(\"Pressure (Pa)\")"
   ]
  },
  {
   "cell_type": "markdown",
   "metadata": {},
   "source": [
    "Now we need to tackle the Raoult correction."
   ]
  },
  {
   "cell_type": "code",
   "execution_count": null,
   "metadata": {
    "collapsed": true
   },
   "outputs": [],
   "source": [
    "# Moles of water in 1 liter using the mass-amount relation\n",
    "\n",
    "# Moles of NaCl in 1 liter of water, assuming 35 ppt\n",
    "\n",
    "# Moles of ions in this solution\n",
    "\n",
    "# Total moles\n",
    "\n",
    "# Mole fraction of water in this solution\n"
   ]
  },
  {
   "cell_type": "code",
   "execution_count": null,
   "metadata": {
    "collapsed": true
   },
   "outputs": [],
   "source": [
    "# Define a new temperature range that goes below the triple point\n",
    "Tvap_sea = linspace(T3-5, 304)\n",
    "\n",
    "# Calculate the vapor pressure of pure water over this range, with the Raoult correction\n"
   ]
  },
  {
   "cell_type": "code",
   "execution_count": null,
   "metadata": {
    "collapsed": true
   },
   "outputs": [],
   "source": [
    "#plot the equations on the same graph\n",
    "figure()\n",
    "grid('on')"
   ]
  },
  {
   "cell_type": "markdown",
   "metadata": {},
   "source": [
    "### Pause for analysis\n",
    "\n",
    "1. In the graph you just made, there's a new point of intersection between the Raoult-corrected liquid curve, $P_{liq/vap}$, and the ice curve, $P_{ice/vap}^*$. Do some zooming to identify the temperature at which that intersection occurs. This is the freezing temperature of Arctic sea ice! The freezing point _depression_ is the original freezing temperature, $T_3$, minus this new temperature. \n",
    "2. Compare your result to the observed freezing temperature depression given by the National Snow and Ice Data Center value, https://nsidc.org/cryosphere/seaice/characteristics/brine_salinity.html.  "
   ]
  },
  {
   "cell_type": "markdown",
   "metadata": {},
   "source": [
    "### Part II. Using Kirchoff's equation to correct the enthalpy of fusion for sea ice "
   ]
  },
  {
   "cell_type": "code",
   "execution_count": null,
   "metadata": {
    "collapsed": true
   },
   "outputs": [],
   "source": [
    "# Specify the temperature change obtained from the foregoing analysis (new - old)\n",
    "\n",
    "# Use Kirchoff's equation to get the new enthalpy of fusion\n",
    "\n",
    "# Report the change in enthalpy of fusion, as a percentage change from pure water\n"
   ]
  },
  {
   "cell_type": "markdown",
   "metadata": {},
   "source": [
    "### Pause for analysis\n",
    "\n",
    "1. Does your analysis suggest that ice will be in equilibrium with salty water at a lower, or higher temperature compared to when it's in equilibrium with fresh water? \n",
    "2. Most climate scientists would consider the effect of freezing point depression to be too small, compared to other uncertainties in the climate system, to merit inclusion in climate models. Why do you suppose it is valuable to do the calculation you did anyway?\n",
    "3. What might those other uncertainties be?"
   ]
  },
  {
   "cell_type": "markdown",
   "metadata": {
    "collapsed": true
   },
   "source": [
    "### Post-activity reflection\n",
    "\n",
    "1. Record your Pause for Analysis reflections in your notebook, with appropriate graphs and equations.\n",
    "2. Define the terms _Kirchoff's Equation_ and _Raoult's Law_.\n"
   ]
  }
 ],
 "metadata": {
  "kernelspec": {
   "display_name": "Python 2",
   "language": "python",
   "name": "python2"
  },
  "language_info": {
   "codemirror_mode": {
    "name": "ipython",
    "version": 2
   },
   "file_extension": ".py",
   "mimetype": "text/x-python",
   "name": "python",
   "nbconvert_exporter": "python",
   "pygments_lexer": "ipython2",
   "version": "2.7.13"
  }
 },
 "nbformat": 4,
 "nbformat_minor": 1
}
